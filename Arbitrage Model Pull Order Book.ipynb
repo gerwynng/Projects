{
 "cells": [
  {
   "cell_type": "code",
   "execution_count": 45,
   "metadata": {},
   "outputs": [],
   "source": [
    "import ccxt #pip from https://github.com/ccxt/ccxt\n",
    "import pandas as pd\n",
    "import numpy as np\n",
    "from functools import reduce\n",
    "import time, os, fnmatch, shutil\n",
    "import json\n",
    "import requests\n",
    "import logging"
   ]
  },
  {
   "cell_type": "code",
   "execution_count": 1,
   "metadata": {},
   "outputs": [
    {
     "name": "stdout",
     "output_type": "stream",
     "text": [
      "Which pair, in caps? eg NEO/USD NEO/USD\n"
     ]
    }
   ],
   "source": [
    "limit = 20\n",
    "pair = input (\"Which pair, in caps? eg NEO/USD \")\n"
   ]
  },
  {
   "cell_type": "code",
   "execution_count": 47,
   "metadata": {},
   "outputs": [],
   "source": [
    "try: \n",
    "    binance = pd.DataFrame(ccxt.binance().fetch_order_book(pair,limit)) [['asks','bids']]\n",
    "    binance.columns = ['Binance ask', 'Binance bids']\n",
    "except Exception:\n",
    "    pass\n",
    "    \n",
    "try:\n",
    "    bitfinex_ask = pd.DataFrame(ccxt.bitfinex().fetch_order_book(pair,limit)['asks'])\n",
    "    bitfinex_bid = pd.DataFrame(ccxt.bitfinex().fetch_order_book(pair,limit)['bids'])\n",
    "    bitfinex_ask.columns = ['Bitfinex Ask Price','Bitfinex Ask Volume']\n",
    "    bitfinex_bid.columns = ['Bitfinex Bid Price','Bitfinex Bid Volume']\n",
    "    bitfinex = pd.concat ([bitfinex_ask,bitfinex_bid],axis=1)\n",
    "except Exception:\n",
    "    pass    \n",
    "\n",
    "try:\n",
    "    quoinex_ask = pd.DataFrame(ccxt.quoinex().fetch_order_book(pair,limit)['asks'])\n",
    "    quoinex_bid = pd.DataFrame(ccxt.quoinex().fetch_order_book(pair,limit)['bids'])\n",
    "    quoinex_ask.columns = ['Quoinex Ask Price','Quoinex Ask Volume']\n",
    "    quoinex_bid.columns = ['Quoinex Bid Price','Quoinex Bid Volume']\n",
    "    quoinex = pd.concat ([quoinex_ask,quoinex_bid],axis=1)\n",
    "except Exception:\n",
    "    pass    \n",
    "\n",
    "try:\n",
    "    kraken_ask = pd.DataFrame(ccxt.kraken().fetch_order_book(pair,limit)['asks'])\n",
    "    kraken_bid = pd.DataFrame(ccxt.kraken().fetch_order_book(pair,limit)['bids'])\n",
    "    kraken_ask.columns = ['Kraken Ask Price','Kraken Ask Volume']\n",
    "    kraken_bid.columns = ['Kraken Bid Price','Kraken Bid Volume']\n",
    "    kraken = pd.concat ([kraken_ask,kraken_bid],axis=1)\n",
    "except Exception:\n",
    "    pass    \n",
    "    \n",
    "try:\n",
    "    kucoin_ask = pd.DataFrame(ccxt.kucoin().fetch_order_book(pair,limit)['asks'])\n",
    "    kucoin_bid = pd.DataFrame(ccxt.kucoin().fetch_order_book(pair,limit)['bids'])\n",
    "    kucoin_ask.columns = ['Kucoin Ask Price','Kucoin Ask Volume']\n",
    "    kucoin_bid.columns = ['Kucoin Bid Price','Kucoin Bid Volume']\n",
    "    kucoin = pd.concat ([kucoin_ask,kucoin_bid],axis=1)\n",
    "except Exception:\n",
    "    pass    \n",
    "    \n",
    "try:\n",
    "    bittrex_ask = pd.DataFrame(ccxt.bittrex().fetch_order_book(pair,limit)['asks'])\n",
    "    bittrex_bid = pd.DataFrame(ccxt.bittrex().fetch_order_book(pair,limit)['bids'])\n",
    "    bittrex_ask.columns = ['Bittrex Ask Price','Bittrex Ask Volume']\n",
    "    bittrex_bid.columns = ['Bittrex Bid Price','Bittrex Bid Volume']\n",
    "    bittrex = pd.concat ([bittrex_ask,bittrex_bid],axis=1)\n",
    "except Exception:\n",
    "    pass"
   ]
  },
  {
   "cell_type": "code",
   "execution_count": 63,
   "metadata": {
    "scrolled": false
   },
   "outputs": [
    {
     "name": "stdout",
     "output_type": "stream",
     "text": [
      "exchange 1?quoinex\n",
      "exchange 2?bitfinex\n"
     ]
    }
   ],
   "source": [
    "a = eval(input('exchange 1? in lower caps'))\n",
    "b = eval(input('exchange 2? in lower caps'))\n",
    "\n",
    "t = time.localtime()\n",
    "timestamp = time.strftime('%b-%d-%Y_%H%M', t)\n",
    "model = pd.concat ([a,b],axis=1)\n",
    "model.to_csv(\"Orderbook\" + timestamp +'.csv')"
   ]
  }
 ],
 "metadata": {
  "kernelspec": {
   "display_name": "Python 3",
   "language": "python",
   "name": "python3"
  },
  "language_info": {
   "codemirror_mode": {
    "name": "ipython",
    "version": 3
   },
   "file_extension": ".py",
   "mimetype": "text/x-python",
   "name": "python",
   "nbconvert_exporter": "python",
   "pygments_lexer": "ipython3",
   "version": "3.6.4"
  }
 },
 "nbformat": 4,
 "nbformat_minor": 2
}
